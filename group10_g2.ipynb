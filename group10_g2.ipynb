{
 "cells": [
  {
   "cell_type": "markdown",
   "metadata": {},
   "source": [
    "# IVDA Group 10 - Ikealytics \n",
    "## Group Assignment 2\n",
    "\n",
    "- Michael Sigg 18-618-843\n",
    "- Noah Croes 24-738-759\n",
    "- Leon Keutzer 24-736-001\n",
    "- Jasur Fayzullaev 23-748-973"
   ]
  },
  {
   "cell_type": "code",
   "execution_count": null,
   "metadata": {},
   "outputs": [],
   "source": []
  }
 ],
 "metadata": {
  "language_info": {
   "name": "python"
  }
 },
 "nbformat": 4,
 "nbformat_minor": 2
}
