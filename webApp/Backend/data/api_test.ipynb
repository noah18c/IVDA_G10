{
 "cells": [
  {
   "cell_type": "code",
   "execution_count": 1,
   "metadata": {},
   "outputs": [],
   "source": [
    "import pandas as pd"
   ]
  },
  {
   "cell_type": "code",
   "execution_count": 2,
   "metadata": {},
   "outputs": [
    {
     "data": {
      "text/plain": [
       "Index(['Unnamed: 0', 'item_id', 'name', 'category', 'price', 'old_price',\n",
       "       'sellable_online', 'link', 'other_colors', 'short_description',\n",
       "       'designer', 'depth', 'height', 'width'],\n",
       "      dtype='object')"
      ]
     },
     "execution_count": 2,
     "metadata": {},
     "output_type": "execute_result"
    }
   ],
   "source": [
    "df = pd.read_csv(\"IKEA_SA_Furniture_Web_Scrapings_sss.csv\")\n",
    "df.columns"
   ]
  },
  {
   "cell_type": "code",
   "execution_count": 5,
   "metadata": {},
   "outputs": [
    {
     "data": {
      "text/plain": [
       "607"
      ]
     },
     "execution_count": 5,
     "metadata": {},
     "output_type": "execute_result"
    }
   ],
   "source": [
    "df[\"name\"].nunique()"
   ]
  },
  {
   "cell_type": "code",
   "execution_count": 6,
   "metadata": {},
   "outputs": [],
   "source": [
    "df_altered = df.copy()"
   ]
  },
  {
   "cell_type": "code",
   "execution_count": null,
   "metadata": {},
   "outputs": [],
   "source": [
    "df_altered[\"name\"] = df[\"name\"].str.split(\" \").str[0] #as there are values like  \"NORDVIKEN / NORDVIKEN\", maybe we only use the first one? -> No, as that are different items\n"
   ]
  },
  {
   "cell_type": "code",
   "execution_count": 8,
   "metadata": {},
   "outputs": [
    {
     "data": {
      "text/plain": [
       "479"
      ]
     },
     "execution_count": 8,
     "metadata": {},
     "output_type": "execute_result"
    }
   ],
   "source": [
    "df_altered[\"name\"].nunique()"
   ]
  },
  {
   "cell_type": "code",
   "execution_count": 12,
   "metadata": {},
   "outputs": [],
   "source": [
    "unique_names = df_altered[\"name\"].unique() "
   ]
  },
  {
   "cell_type": "code",
   "execution_count": null,
   "metadata": {},
   "outputs": [],
   "source": [
    "from selenium import webdriver\n",
    "from selenium.webdriver.common.by import By\n",
    "from selenium.webdriver.chrome.service import Service\n",
    "from webdriver_manager.chrome import ChromeDriverManager\n",
    "import time\n",
    "import requests\n",
    "import os\n",
    "\n",
    "def fetch_images_selenium(names, folder_path=\"ikea_images\"):\n",
    "    \"\"\"\n",
    "    Fetches the first image for each IKEA item name using Selenium.\n",
    "\n",
    "    Args:\n",
    "        names (list): List of product names to search for.\n",
    "        folder_path (str): Folder where images will be saved.\n",
    "    \"\"\"\n",
    "    if not os.path.exists(folder_path):\n",
    "        os.makedirs(folder_path)\n",
    "\n",
    "    driver = webdriver.Chrome(service=Service(ChromeDriverManager().install()))\n",
    "\n",
    "    for name in names:\n",
    "        try:\n",
    "            print(f\"Fetching image for: {name}\")\n",
    "            driver.get(f\"https://www.ikea.com/us/en/search/?q={name}\")\n",
    "            time.sleep(3)  # time to load\n",
    "\n",
    "            # first product image, right now also fetches if product now found \n",
    "            img_tag = driver.find_element(By.CSS_SELECTOR, \"img.image.plp-product__image.plp-product__image--alt\")\n",
    "            img_url = img_tag.get_attribute(\"src\")\n",
    "\n",
    "            # Download the image\n",
    "            response = requests.get(img_url, stream=True)\n",
    "            if response.status_code == 200:\n",
    "                img_path = os.path.join(folder_path, f\"{name}.jpg\")\n",
    "                with open(img_path, \"wb\") as img_file:\n",
    "                    for chunk in response.iter_content(1024):\n",
    "                        img_file.write(chunk)\n",
    "                print(f\"Image saved: {img_path}\")\n",
    "            else:\n",
    "                print(f\"Failed to download image for {name}\")\n",
    "        except Exception as e:\n",
    "            print(f\"Error fetching image for {name}: {e}\")\n",
    "\n",
    "    driver.quit()\n",
    "\n",
    "#test\n",
    "product_names = [\"STIG\", \"FREKVENS\"]\n",
    "fetch_images_selenium(product_names)\n"
   ]
  },
  {
   "cell_type": "code",
   "execution_count": null,
   "metadata": {},
   "outputs": [
    {
     "name": "stdout",
     "output_type": "stream",
     "text": [
      "Fetching image for: FREKVENS\n",
      "Image saved: ikea_images/FREKVENS.jpg\n",
      "Fetching image for: NORDVIKEN\n",
      "Image saved: ikea_images/NORDVIKEN.jpg\n",
      "Fetching image for: STIG\n",
      "Image saved: ikea_images/STIG.jpg\n",
      "Fetching image for: NORBERG\n",
      "Image saved: ikea_images/NORBERG.jpg\n",
      "Fetching image for: INGOLF\n",
      "Image saved: ikea_images/INGOLF.jpg\n",
      "Fetching image for: FRANKLIN\n",
      "Image saved: ikea_images/FRANKLIN.jpg\n",
      "Fetching image for: DALFRED\n",
      "Image saved: ikea_images/DALFRED.jpg\n",
      "Fetching image for: EKEDALEN\n",
      "Image saved: ikea_images/EKEDALEN.jpg\n",
      "Fetching image for: NORRARYD\n",
      "Image saved: ikea_images/NORRARYD.jpg\n",
      "Fetching image for: TOMMARYD\n"
     ]
    },
    {
     "ename": "KeyboardInterrupt",
     "evalue": "",
     "output_type": "error",
     "traceback": [
      "\u001b[0;31m---------------------------------------------------------------------------\u001b[0m",
      "\u001b[0;31mKeyboardInterrupt\u001b[0m                         Traceback (most recent call last)",
      "Cell \u001b[0;32mIn[15], line 1\u001b[0m\n\u001b[0;32m----> 1\u001b[0m \u001b[43mfetch_images_selenium\u001b[49m\u001b[43m(\u001b[49m\u001b[43munique_names\u001b[49m\u001b[38;5;241;43m.\u001b[39;49m\u001b[43mtolist\u001b[49m\u001b[43m(\u001b[49m\u001b[43m)\u001b[49m\u001b[43m,\u001b[49m\u001b[43m \u001b[49m\u001b[43mfolder_path\u001b[49m\u001b[38;5;241;43m=\u001b[39;49m\u001b[38;5;124;43m\"\u001b[39;49m\u001b[38;5;124;43mikea_images\u001b[39;49m\u001b[38;5;124;43m\"\u001b[39;49m\u001b[43m)\u001b[49m\n",
      "Cell \u001b[0;32mIn[14], line 26\u001b[0m, in \u001b[0;36mfetch_images_selenium\u001b[0;34m(names, folder_path)\u001b[0m\n\u001b[1;32m     24\u001b[0m \u001b[38;5;28mprint\u001b[39m(\u001b[38;5;124mf\u001b[39m\u001b[38;5;124m\"\u001b[39m\u001b[38;5;124mFetching image for: \u001b[39m\u001b[38;5;132;01m{\u001b[39;00mname\u001b[38;5;132;01m}\u001b[39;00m\u001b[38;5;124m\"\u001b[39m)\n\u001b[1;32m     25\u001b[0m driver\u001b[38;5;241m.\u001b[39mget(\u001b[38;5;124mf\u001b[39m\u001b[38;5;124m\"\u001b[39m\u001b[38;5;124mhttps://www.ikea.com/us/en/search/?q=\u001b[39m\u001b[38;5;132;01m{\u001b[39;00mname\u001b[38;5;132;01m}\u001b[39;00m\u001b[38;5;124m\"\u001b[39m)\n\u001b[0;32m---> 26\u001b[0m \u001b[43mtime\u001b[49m\u001b[38;5;241;43m.\u001b[39;49m\u001b[43msleep\u001b[49m\u001b[43m(\u001b[49m\u001b[38;5;241;43m3\u001b[39;49m\u001b[43m)\u001b[49m  \u001b[38;5;66;03m# time to load\u001b[39;00m\n\u001b[1;32m     28\u001b[0m \u001b[38;5;66;03m# first product image, right now also fetches if product now found \u001b[39;00m\n\u001b[1;32m     29\u001b[0m img_tag \u001b[38;5;241m=\u001b[39m driver\u001b[38;5;241m.\u001b[39mfind_element(By\u001b[38;5;241m.\u001b[39mCSS_SELECTOR, \u001b[38;5;124m\"\u001b[39m\u001b[38;5;124mimg.image.plp-product__image.plp-product__image--alt\u001b[39m\u001b[38;5;124m\"\u001b[39m)\n",
      "\u001b[0;31mKeyboardInterrupt\u001b[0m: "
     ]
    }
   ],
   "source": [
    "#fetch_images_selenium(unique_names.tolist(), folder_path=\"ikea_images\")"
   ]
  }
 ],
 "metadata": {
  "kernelspec": {
   "display_name": "venv",
   "language": "python",
   "name": "python3"
  },
  "language_info": {
   "codemirror_mode": {
    "name": "ipython",
    "version": 3
   },
   "file_extension": ".py",
   "mimetype": "text/x-python",
   "name": "python",
   "nbconvert_exporter": "python",
   "pygments_lexer": "ipython3",
   "version": "3.12.7"
  }
 },
 "nbformat": 4,
 "nbformat_minor": 2
}
